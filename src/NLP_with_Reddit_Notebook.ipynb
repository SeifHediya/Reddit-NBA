{
  "cells": [
    {
      "cell_type": "markdown",
      "metadata": {
        "id": "_c9JgAKLV3eg"
      },
      "source": [
        "\n",
        "\n",
        "# Natural Language Processing with Reddit\n",
        "\n",
        "**Project scope:** Find out which teams fans believe will perform the best in the upcoming season using their conversations about the NBA Draft, Free Agency, and NBA Summer League from the social network site Reddit\n"
      ]
    },
    {
      "cell_type": "markdown",
      "metadata": {
        "id": "dx8lFCTJ3uKe"
      },
      "source": [
        "# Methodology\n",
        "\n",
        "- Clarifying the project scope\n",
        "- Getting Reddit data with APIs\n",
        "- Cleaning the data\n",
        "- Exploratory data analysis (EDA)\n",
        "- Text Preprocessing\n",
        "- Modeling and Analysis\n",
        "  - Finding Topics\n",
        "  - Sentiment Analysis\n",
        "  - Text Summarization"
      ]
    },
    {
      "cell_type": "markdown",
      "metadata": {
        "id": "P4JpBCRZda28"
      },
      "source": [
        "# Getting Started"
      ]
    },
    {
      "cell_type": "markdown",
      "metadata": {
        "id": "J-vLUctK43Y8"
      },
      "source": [
        "### Importing Libraries\n",
        "\n",
        "Data Science has progressed greatly due in part to open source libraries that makes analysis quicker. A couple of useful Data Science libraries that we'll be importing into this notebook include:\n",
        "\n",
        "- [numpy](http://www.numpy.org/): Array and matrix computation\n",
        "- [pandas](https://pandas.pydata.org/): Manipulating and arranging data\n",
        "- [nltk](https://www.nltk.org/): Variety of functions to work with text data\n",
        "\n",
        "The following cell will have to be run everytime."
      ]
    },
    {
      "cell_type": "code",
      "execution_count": null,
      "metadata": {
        "colab": {
          "base_uri": "https://localhost:8080/"
        },
        "id": "iICco8dFN891",
        "outputId": "cf55d6fb-6397-424a-a575-3f3c646db6a5"
      },
      "outputs": [],
      "source": [
        "# Libraries\n",
        "\n",
        "# Reading API\n",
        "import requests\n",
        "import configparser\n",
        "import json\n",
        "import os\n",
        "\n",
        "# Handling text changes\n",
        "import html\n",
        "from bs4 import BeautifulSoup\n",
        "from markdown import markdown\n",
        "\n",
        "# NLP models and clean up\n",
        "import nltk\n",
        "from nltk.tokenize import sent_tokenize\n",
        "from nltk.corpus import stopwords\n",
        "import nltk\n",
        "import ssl\n",
        "\n",
        "try:\n",
        "    _create_unverified_https_context = ssl._create_unverified_context\n",
        "except AttributeError:\n",
        "    pass\n",
        "else:\n",
        "    ssl._create_default_https_context = _create_unverified_https_context\n",
        "\n",
        "nltk.download('wordnet')\n",
        "nltk.download('punkt')\n",
        "nltk.download('stopwords')\n",
        "\n",
        "# Other important libraries\n",
        "import pandas as pd\n",
        "import numpy as np\n",
        "from datetime import datetime, timedelta, date, timezone\n",
        "import time"
      ]
    },
    {
      "cell_type": "markdown",
      "metadata": {
        "id": "kcXLaJcwpLXj"
      },
      "source": [
        "# Clarifying the project scope\n",
        "\n",
        "**Sample steps:**\n",
        "\n",
        "- Explore the data source ([/r/nba](https://www.reddit.com/r/nba)) and other subreddits that may be of interest, such as the NBA team's individual subreddits\n",
        "- Explore how Reddit works, including leaving a comment, posting a new thread, and upvoting/downvoting content\n",
        "- Write a solid hypothesis on what you expect to find in your analysis\n",
        "- Make your project scope appealing to stakeholders\n"
      ]
    },
    {
      "cell_type": "markdown",
      "metadata": {
        "id": "3VNnuhLEoNFv"
      },
      "source": [
        "# Getting Reddit data with APIs\n",
        "\n",
        "**Sample steps:**\n",
        "- Find methods to gather text from Reddit. Two APIs that I've used include [Pushshift](https://github.com/pushshift/api) and [PRAW](https://praw.readthedocs.io/en/stable/)\n",
        "- Read the documentation and try it out for yourself. For example, Pushshift offers endpoints that you can plug into your browser and see an output. \n",
        " - Try out this Pushshift endpoint for submissions in /r/nba on August 23, 2021: https://api.pushshift.io/reddit/submission/search/?subreddit=nba&before=2021-08-24&after=2021-08-23\n",
        "- As you work with getting the data into this notebook, assess what data is important to you, how much of the data you will need, and how to save this data away so you don't have to use the APIs everytime.\n",
        "- The task is to convert the API's JSON output to a DataFrame in this notebook that can be easily manipulated."
      ]
    },
    {
      "cell_type": "markdown",
      "metadata": {
        "id": "hETjSv5Tpmp4"
      },
      "source": [
        "# Cleaning the data\n",
        "**Sample steps:**\n",
        "- Observe how the data looks. Is the data how you would want it to look? Are there any missing values? Does the column have the data type you would expect?"
      ]
    },
    {
      "cell_type": "markdown",
      "metadata": {
        "id": "IvtLcp9cpgxa"
      },
      "source": [
        "# Exploratory Data Analysis (EDA)\n",
        "**Sample steps:**\n",
        "- Learn what you're working with. How many rows of data do you have? What's the average word length of a typical text?\n",
        "- What limitations do you expect based on your knowledge of Reddit?"
      ]
    },
    {
      "cell_type": "markdown",
      "metadata": {
        "id": "veZdyqo2pclk"
      },
      "source": [
        "# Text Preprocessing\n",
        "**Sample steps:**\n",
        "- The computer model doesn't understand words from the onset. How do you prep the data set so that it's ready for modeling?"
      ]
    },
    {
      "cell_type": "markdown",
      "metadata": {
        "id": "Lzv038oWpY_M"
      },
      "source": [
        "# Modeling and Analysis\n",
        "**Sample steps:**\n",
        "- What analysis would you like to do? What libraries are available for you to achieve this?"
      ]
    },
    {
      "cell_type": "markdown",
      "metadata": {
        "id": "7lzMqhXKL0nF"
      },
      "source": [
        "# **Jesus Campos FAS Capstone Project: Reddit NLP**\n",
        "\n",
        "###Project Scope:\n",
        "Find out which teams fans believe will perform the best in the upcoming season using their conversations about (1) the NBA Draft (2) Free Agency (3) NBA Summer League\n",
        "\n",
        "###Early thoughts\n",
        "How a team’s season ended is likely to be a lagging indicator as to how well fans perceive their team’s chances of performing best in the upcoming season. In a superstar driven game, teams will deep playoff runs are likely to repeat success. In other words, holding all things constant, it’s likely success and failure will carry over into the next season; however, we know that’s not how teams operate. They’re all in a competition so naturally they’ll all be looking for ways to improve their chances of future success. But again, in superstar driven league, improvements to a team’s direct chances of contending will be limited. \n",
        "\n",
        "These improvements will come in the form of rosters changes and player development. All three events called out in our initial project scope revolve around these improvements. Each of these events will be a catalyst for shifting fan sentiment and expectations. Sentiment will fluctuate in the months following the end of the season. There are some additional “events” outside of these to be aware. Injuries and social events can too sway emotion. For example, Klay’s return, Ben Simmons handling of his own possible return, and Kyrie's stance on getting vaccinated. \n",
        "\n",
        "###Business Implications \n",
        "Each move or lack thereof reflect an organization’s commitment to contending. Fan’s will react to and evaluate the signals their front office and players are sending creating a sentiment timeline. The closer to the season’s tip-off the surer fans and casuals will be about their team's outlook. They'll be deciding on how much emotional and financial investment they deposit into the on-court product of the team. Without that buzz going in, you can't expect too much buy in. \n",
        "\n",
        "This can dictate their openness to purchase/renew tickets, merchandise/jerseys, and NBA League subscriptions. This will also dictate the time investment they make in the team which will directly impact digital engagement across social media and Nielsen tv ratings. The downstream consequences of poor fan engagement can negatively impact big money items like brand partnerships and ad slot cost. Low viewership and negative perception may scare away premium partnership investments. Long term wise, a poor string of seasons can have detrimental impacts on a person's LTV trajectory. \n",
        "\n",
        "###Proposed Solution\n",
        "Using Reddit data, we’ll deepen your understanding of fan sentiment going into the season. We’ll specifically analyze fan reactions to roster movements made in the offseason. In other words, we’ll understand how receptive they were to the commitment signals you sent them. \n",
        "\n",
        "####The so what? This work can...\n",
        "\n",
        "In the past, teams have quantified public opinion towards athletes using surveys like Q-score. While surveys provide precise quantitative answers, they are inherently biased, since only a small fraction of people respond to surveys. Furthermore, people's stated opinions may be different from their honest opinions, due to self-censoring, or lack of self-knowledge.\n",
        "\n",
        "Instead, thanks to social media and natural language processing techniques, we can analyze how people naturally talk about players. This allows us to get opinions from a wider group of people (although it still may overrepresent loud people), and to infer the public's real opinion. Social media also allows you to measure community effects as well, as people upvote and downvote opinions. The formation of opinion in these online communities is often a bellwether for how the general public will feel later.\n",
        "\n",
        "•\tSupport internal sales and activation functions with custom research and syndicated market research data on the team brand, sponsor prospects, and in-depth analyses of the competitive landscape.\n",
        "•\tSupport the marketing function with on-going brand and fan tracking initiatives.\n",
        "•\tManage paid third-party research vendors across asset valuation, content valuation, syndicated\n",
        "•\tmarket research data, and prospecting functions.\n",
        "•\tAssist with measurement of corporate customer value proposition metrics for both hospitality and brand amplification business lines (ROI goals.)\n",
        "\n",
        "###How will we do this? \n",
        "The goal is to understand which teams fans believe will perform best in the upcoming season. Previous season performance has proven to be a good indicator of upcoming season success, so we should leverage historical data to create a short list of teams to focus on. Additionally, we should further focus on those teams that made significant moves in the offseason via free agency and trades. \n",
        "\n",
        "On the topic of moves, let’s revisit the three events that we’ll be analyzing.\n",
        " \n",
        "(1)\tNBA Draft - Given the nature of the draft, the teams with the most positive reactionary sentiment will likely not be the teams expecting to perform the best next year. Exceptions are draft night trades bolstering a fringe contender's roster or picks resulting from prior trades in which establish contenders get a high pick. In the latter case, it's unlikely a rookie will have that big of an impact to elevate a team to contender status. Overall, I think these conversations can produce more signal than noise. \n",
        "\n",
        "(2)\tFree Agency - The most aggressive teams will be the one's looking for that final piece. Every free agent market will be different so it's important to recognize if this year's class had players that could significantly swing expectations. \n",
        "\n",
        "(3)\tSummer League - Similar to draft night, if you're tuning into summer leagues games its likely for a high draft pick, in which case your teams likely a few years away from contending. \n",
        " \n",
        "All three events correspond to roster changes & player development. The additions & subtractions to a roster via free agency & trade, in my opinion, will have a more noticeable sentiment shift. So I recommend we focus on those. \n",
        " \n",
        "###Case Study \n",
        "Using my personal experiences as a Bulls fan, below I mapped out what sentiment of our fans should ideally look like. I’ll use that contextual knowledge to understand what makes sense in the data we’ll be exploring and ultimately what business applications can realistically come out of this work. \n",
        "\n",
        "Let's study the Bull’s major offseason events to see if we can match up sentiment to what intuitively should be a clean positive sentiment trajectory. \n",
        " \n",
        "•\tMay: Season ends in disappointment after an all-in play at the trade deadline to acquire our 2nd all-star fizzles out\n",
        "•\tJune: Disappointment grows as we miss out on our first-round pick\n",
        "•\tJuly: Tune changes dramatically with Ayo falling to us and Lonzo/Caruso/DeMar signings\n",
        "•\tAugust: Excitement over the continued development of starter, Patrick Williams. Lauri finally gets moved after some drama. Zach wins Gold Medal. USA! USA!\n",
        "•\tSeptember: Hype is met with cooled expectations from \"analysts”\n",
        "\n",
        "From this series of events, I believe that the main drivers of improved sentiment are:\n",
        "1.\tTop-down change - Our new front office’s clear signal of committing to winning. This is a clear and welcomed change from the actions of the previous administration. We’re finally acting like the big market that we are by opening our wallets and landing a big-name free agent. Furthermore, with Zach LaVine’s contracting expiring soon, these move hopefully will future proof his investment in us. \n",
        "2.\tOffense – there are clear question marks about our defense, but with now 3 all-stars we know we’re going to be scoring a lot. Highlight potential is there making them at the very least watchable. \n",
        "3.\tILL-INI! - The hometown kid, Ayo Dosumo, fell to us in the draft. Spirts we low going into the draft with us having no 1st rounders. Years of unluckiness looked like they were going to continue, but then Ayo fell to us in the second round. There’s plenty of reasons why that happened but us Illini fans are happy to look away from them. \n",
        "4.\tMemes - It’s not certain how well these free agents will translate to wins, but we know for sure the bald mamba and Lavar Ball are going to be entertaining. \n",
        "5.\tSophomore Campaign – Well documented potential in last years 1st round pick, Patrick Williams. Seeing his ability to score in summer league was very promising. \n",
        "\n",
        "###Methodology:\n",
        "\n",
        "Using our fan domain knowledge, we’ll search for reddit threads that connect to key offseason moves. They key moves will focus on those teams that realistically have a chance on winning the championship. \n",
        "\n",
        "In these threads we’ll perform a sentiment analysis of the comment section, weighted by the top upvoted ones. Secondly, we’ll topic model these comments to find latent themes of what fans are talking most about. Hopefully in both cases, we find meaningful and actionable insights. To best ensure this, we should think about the business applications of this data after we review what we have at our disposal. \n"
      ]
    },
    {
      "cell_type": "code",
      "execution_count": null,
      "metadata": {
        "colab": {
          "base_uri": "https://localhost:8080/"
        },
        "id": "VvuSmtVGw6Gy",
        "outputId": "c9344cc1-886e-4b19-986c-0a5f49bd94bf"
      },
      "outputs": [],
      "source": [
        "import pandas as pd\n",
        "import requests #Pushshift accesses Reddit via an url so this is needed\n",
        "import json #JSON manipulation\n",
        "import csv #To Convert final table into a csv file to save to your machine\n",
        "import time\n",
        "import datetime\n",
        "import seaborn as sns\n",
        "import matplotlib.pyplot as plt\n",
        "\n",
        "# NLP models and clean up\n",
        "!pip install praw\n",
        "import praw\n",
        "import nltk\n",
        "from nltk.sentiment.vader import SentimentIntensityAnalyzer as SIA \n",
        "\n",
        "from nltk.tokenize import word_tokenize\n",
        "from nltk.tokenize import sent_tokenize\n",
        "from nltk.corpus import stopwords\n",
        "from nltk.tokenize import RegexpTokenizer\n",
        "from nltk.stem import WordNetLemmatizer,PorterStemmer\n",
        "\n",
        "import re\n",
        "lemmatizer = WordNetLemmatizer()\n",
        "stemmer = PorterStemmer() \n",
        "\n",
        "# Download\n",
        "nltk.download('vader_lexicon')\n",
        "nltk.download('stopwords')\n",
        "nltk.download('punkt')\n",
        "nltk.download('wordnet')"
      ]
    },
    {
      "cell_type": "code",
      "execution_count": null,
      "metadata": {
        "id": "cMxsdbDbw_PM"
      },
      "outputs": [],
      "source": [
        "# Using Pushshift Module to extract Submissions Data from Reddit\n",
        "\n",
        "#Adapted from this https://gist.github.com/dylankilkenny/3dbf6123527260165f8c5c3bc3ee331b\n",
        "#This function builds an Pushshift URL, accesses the webpage and stores JSON data in a nested list\n",
        "# Parameters Used: \n",
        "# size — increase limit of returned entries to 1000\n",
        "# after — where to start the search\n",
        "# before — where to end the search\n",
        "# title — to search only within the submission’s title\n",
        "# subreddit — to narrow it down to a particular subreddit\n",
        "def getPushshiftData(query, after, before, sub):\n",
        "    #Build URL\n",
        "    url = 'https://api.pushshift.io/reddit/search/submission/?title='+str(query)+'&size=1000&after='+str(after)+'&before='+str(before)+'&subreddit='+str(sub)\n",
        "    #Print URL to show user\n",
        "    print(url)\n",
        "    #Request URL\n",
        "    r = requests.get(url)\n",
        "    #Load JSON data from webpage into data variable\n",
        "    data = json.loads(r.text)\n",
        "    #return the data element which contains all the submissions data\n",
        "    return data['data']\n",
        "\n",
        "## Extract key information from Submissions ##\n",
        "#This function will be used to extract the key data points from each JSON result\n",
        "def collectSubData(subm):\n",
        "    #subData was created at the start to hold all the data which is then added to our global subStats dictionary.\n",
        "    subData = list() #list to store data points\n",
        "    title = subm['title']\n",
        "    #url = subm['url']\n",
        "    #flairs are not always present so we wrap in try/except\n",
        "    try:\n",
        "        flair = subm['link_flair_text']\n",
        "    except KeyError:\n",
        "        flair = \"NaN\"    \n",
        "    #author = subm['author']\n",
        "    sub_id = subm['id']\n",
        "    #score = subm['score']\n",
        "    created = datetime.datetime.fromtimestamp(subm['created_utc']) #1520561700.0\n",
        "    numComms = subm['num_comments']\n",
        "    #permalink = subm['permalink']\n",
        "\n",
        "    #Put all data points into a tuple and append to subData\n",
        "    subData.append((sub_id,title,created,numComms,flair))\n",
        "    #Create a dictionary entry of current submission data and store all data related to it\n",
        "    subStats[sub_id] = subData"
      ]
    },
    {
      "cell_type": "markdown",
      "metadata": {
        "id": "5n6mbMrm59Fp"
      },
      "source": [
        "# **Step 2**. Find r/nba submissions that mention player of interest\n",
        "### Let's manually find the most commented thread that highlights this individual's transaction. From there we'll perform a sentiment analysis to derive fans initial perception of the move. "
      ]
    },
    {
      "cell_type": "code",
      "execution_count": null,
      "metadata": {
        "colab": {
          "base_uri": "https://localhost:8080/"
        },
        "id": "_P8wm7Wjytlc",
        "outputId": "14a408dd-4da5-422b-d37f-3e18d6748bce"
      },
      "outputs": [],
      "source": [
        "#Create your timestamps and queries for your search URL\n",
        "#https://www.unixtimestamp.com/index.php > Use this to create your timestamps\n",
        "\n",
        "after=int(datetime.datetime(2021, 7, 1).timestamp())  #Submissions after this timestamp (1577836800 = 01 Jan 20)\n",
        "before=int(datetime.datetime(2021, 9, 30).timestamp())  #Submissions before this timestamp (1577836800 = 01 Jan 20)\n",
        "\n",
        "query = \"lonzo|ball\" #Keyword(s) to look for in submissions (expect|predict|realistic|vegas|odds|season preview|projection|seed|FiveThirtyEight|power rank|ranking)\n",
        "sub = \"chicagobulls\" #Which Subreddit to search in\n",
        "\n",
        "# nba\n",
        "# AtlantaHawks\n",
        "# bostonceltics\n",
        "# CharlotteHornets\n",
        "# chicagobulls\n",
        "# clevelandcavs\n",
        "# denvernuggets\n",
        "# DetroitPistons\n",
        "# GoNets\n",
        "# heat\n",
        "# kings\n",
        "# LAClippers\n",
        "# lakers\n",
        "# memphisgrizzlies\n",
        "# Mavericks\n",
        "# MkeBucks\n",
        "# NBASpurs\n",
        "# NOLAPelicans\n",
        "# NYKnicks\n",
        "# OrlandoMagic\n",
        "# pacers\n",
        "# ripcity\n",
        "# rockets\n",
        "# sixers\n",
        "# suns\n",
        "# Thunder\n",
        "# timberwolves\n",
        "# torontoraptors\n",
        "# utahjazz\n",
        "# warriors\n",
        "# washingtonwizards\n",
        "\n",
        "\n",
        "#subCount tracks the no. of total submissions we collect\n",
        "subCount = 0\n",
        "#subStats is the dictionary where we will store our data.\n",
        "subStats = {}\n",
        "\n",
        "# We need to run this function outside the loop first to get the updated after variable\n",
        "data = getPushshiftData(query, after, before, sub)\n",
        "\n",
        "# Will run until all posts have been gathered i.e. When the length of data variable = 0\n",
        "# from the 'after' date up until before date\n",
        "while len(data) > 0: #The length of data is the number submissions (data[0], data[1] etc), once it hits zero (after and before vars are the same) end\n",
        "    for submission in data:\n",
        "        collectSubData(submission)\n",
        "        subCount+=1\n",
        "    # Calls getPushshiftData() with the created date of the last submission\n",
        "    #update after variable to last created date of submission\n",
        "    after = data[-1]['created_utc']\n",
        "    #data has changed due to the new after variable provided by above code\n",
        "    data = getPushshiftData(query, after, before, sub)\n",
        "\n",
        "print(str(len(subStats)) + \" submissions have added to list\")\n",
        "print(\"1st entry is:\")\n",
        "print(list(subStats.values())[0][0][1] + \" created: \" + str(list(subStats.values())[0][0][2]))\n",
        "print(\"Last entry is:\")\n",
        "print(list(subStats.values())[-1][0][1] + \" created: \" + str(list(subStats.values())[-1][0][2]))"
      ]
    },
    {
      "cell_type": "code",
      "execution_count": null,
      "metadata": {
        "colab": {
          "base_uri": "https://localhost:8080/",
          "height": 797
        },
        "id": "MiOSj6Aj9LOb",
        "outputId": "12017d7d-4d8c-4053-8d76-347b46989be8"
      },
      "outputs": [
        {
          "data": {
            "text/html": [
              "<div>\n",
              "<style scoped>\n",
              "    .dataframe tbody tr th:only-of-type {\n",
              "        vertical-align: middle;\n",
              "    }\n",
              "\n",
              "    .dataframe tbody tr th {\n",
              "        vertical-align: top;\n",
              "    }\n",
              "\n",
              "    .dataframe thead th {\n",
              "        text-align: right;\n",
              "    }\n",
              "</style>\n",
              "<table border=\"1\" class=\"dataframe\">\n",
              "  <thead>\n",
              "    <tr style=\"text-align: right;\">\n",
              "      <th></th>\n",
              "      <th>Post ID</th>\n",
              "      <th>Title</th>\n",
              "      <th>Publish Date</th>\n",
              "      <th>Total No. of Comments</th>\n",
              "      <th>Flair</th>\n",
              "    </tr>\n",
              "  </thead>\n",
              "  <tbody>\n",
              "    <tr>\n",
              "      <th>112</th>\n",
              "      <td>ozy9ps</td>\n",
              "      <td>[Wojnarowski] Reporting with @RamonaShelburne on ESPN: The NBA has opened up investigations into possible tampering violations involving two sign-and-trade deals completed in free agency: New Orleans and Chicago centered on Lonzo Ball, and Toronto and Miami centered on Kyle Lowry. Story soon.</td>\n",
              "      <td>2021-08-07 18:10:27</td>\n",
              "      <td>466</td>\n",
              "      <td>NaN</td>\n",
              "    </tr>\n",
              "    <tr>\n",
              "      <th>67</th>\n",
              "      <td>owp4o7</td>\n",
              "      <td>[Charania] The Chicago Bulls are sending Tomas Satoransky, Garrett Temple and a second-round pick to New Orleans for Lonzo Ball, who's signing a four-year, $85M contract, sources tell @TheAthletic @Stadium.</td>\n",
              "      <td>2021-08-02 22:08:08</td>\n",
              "      <td>332</td>\n",
              "      <td>Trade</td>\n",
              "    </tr>\n",
              "    <tr>\n",
              "      <th>27</th>\n",
              "      <td>ov7cg9</td>\n",
              "      <td>[Bleacher Report] There is apparently mutual interest between Lonzo and D-Rose about coming to the bulls</td>\n",
              "      <td>2021-07-31 13:41:14</td>\n",
              "      <td>246</td>\n",
              "      <td>Rumor</td>\n",
              "    </tr>\n",
              "    <tr>\n",
              "      <th>33</th>\n",
              "      <td>ovlhin</td>\n",
              "      <td>[Fischer] Lonzo Ball expected to receive a \"big\" offer sheet from the Chicago Bulls once they are able to move Tomas Satoransky and Thaddeus Young. Bulls will presumably go after Derrick Rose to pair with Ball to help carry the offense.</td>\n",
              "      <td>2021-08-01 04:15:15</td>\n",
              "      <td>231</td>\n",
              "      <td>Rumor</td>\n",
              "    </tr>\n",
              "    <tr>\n",
              "      <th>7</th>\n",
              "      <td>oji6xs</td>\n",
              "      <td>[Bleacher Report on Twitter] Clippers and Bulls are interested in Lonzo Ball, Pels are \"unlikely to match a significant offer sheet,\" per @ShamsCharania</td>\n",
              "      <td>2021-07-13 15:39:59</td>\n",
              "      <td>195</td>\n",
              "      <td>NaN</td>\n",
              "    </tr>\n",
              "    <tr>\n",
              "      <th>54</th>\n",
              "      <td>owozlr</td>\n",
              "      <td>Lonzo Ball has agreed to a four-year, $85 million deal with the Chicago Bulls, CEO of Klutch Sports Rich Paul tells @TheAthletic @Stadium .</td>\n",
              "      <td>2021-08-02 22:01:02</td>\n",
              "      <td>195</td>\n",
              "      <td>Free Agency</td>\n",
              "    </tr>\n",
              "    <tr>\n",
              "      <th>51</th>\n",
              "      <td>owmcz6</td>\n",
              "      <td>[Winfield] I'm told the Hornets, Pelicans and Bulls have discussed a three-team deal that sends Devonte Graham to the New Orleans, Lonzo Ball to the Chicago and Lauri Markkanen to Charlotte.</td>\n",
              "      <td>2021-08-02 19:51:23</td>\n",
              "      <td>133</td>\n",
              "      <td>Rumor</td>\n",
              "    </tr>\n",
              "    <tr>\n",
              "      <th>12</th>\n",
              "      <td>omt2e5</td>\n",
              "      <td>[Moore] Four names that are tied to Chicago: Kyle Lowry, Dennis Schröder, Lonzo Ball, and Spencer Dinwiddie, sources say. Lowry will be the toughest get. Philadelphia, Miami and New Orleans are among the expected suitors for Lowry.</td>\n",
              "      <td>2021-07-18 15:48:18</td>\n",
              "      <td>121</td>\n",
              "      <td>Free Agency</td>\n",
              "    </tr>\n",
              "    <tr>\n",
              "      <th>23</th>\n",
              "      <td>otm7jj</td>\n",
              "      <td>[Pincus] I've hard the Lonzo/Pels marriage is over</td>\n",
              "      <td>2021-07-28 23:58:18</td>\n",
              "      <td>104</td>\n",
              "      <td>Free Agency</td>\n",
              "    </tr>\n",
              "    <tr>\n",
              "      <th>31</th>\n",
              "      <td>ovkxs2</td>\n",
              "      <td>[Mark Schanowski] Watching NBA TV’s free agency special. Well respected @ChrisBHaynes reports unless there’s a major “hiccup”, sources tell him Lonzo Ball intends to work out a contract with the Bulls. Pelicans are going hard after free agent PG Kyle Lowry.</td>\n",
              "      <td>2021-08-01 03:35:16</td>\n",
              "      <td>72</td>\n",
              "      <td>NaN</td>\n",
              "    </tr>\n",
              "    <tr>\n",
              "      <th>1</th>\n",
              "      <td>odaahk</td>\n",
              "      <td>[Frank] From a team-building perspective, it's much more prudent to view Lonzo as a play-linking, floor-spacing wing who can capitalize on advantages as a passer with sound decision-maker rather than as a point guard/initiator</td>\n",
              "      <td>2021-07-04 01:07:04</td>\n",
              "      <td>64</td>\n",
              "      <td>NaN</td>\n",
              "    </tr>\n",
              "    <tr>\n",
              "      <th>11</th>\n",
              "      <td>omcmdr</td>\n",
              "      <td>[Steph Noh] How Lonzo Ball to the Bulls would happen</td>\n",
              "      <td>2021-07-17 20:58:07</td>\n",
              "      <td>62</td>\n",
              "      <td>Free Agency</td>\n",
              "    </tr>\n",
              "    <tr>\n",
              "      <th>152</th>\n",
              "      <td>p89th7</td>\n",
              "      <td>Lonzo new track: Ice (feat. Starside)</td>\n",
              "      <td>2021-08-20 17:26:12</td>\n",
              "      <td>59</td>\n",
              "      <td>Fluff</td>\n",
              "    </tr>\n",
              "    <tr>\n",
              "      <th>63</th>\n",
              "      <td>owp1mh</td>\n",
              "      <td>[Wojnarowski] New Orleans Pelicans guard Lonzo Ball is landing on a four-year, $85 million contract with Chicago Bulls in a sign-and-trade agreement, his agent and @KlutchSports CEO Rich Paul tells ESPN.</td>\n",
              "      <td>2021-08-02 22:03:53</td>\n",
              "      <td>58</td>\n",
              "      <td>Free Agency</td>\n",
              "    </tr>\n",
              "    <tr>\n",
              "      <th>102</th>\n",
              "      <td>oyvztt</td>\n",
              "      <td>The “Lonzo can’t create in the half court” narrative is a case of advanced stats gone wrong.</td>\n",
              "      <td>2021-08-06 00:51:08</td>\n",
              "      <td>56</td>\n",
              "      <td>Fluff</td>\n",
              "    </tr>\n",
              "  </tbody>\n",
              "</table>\n",
              "</div>"
            ],
            "text/plain": [
              "    Post ID  ...        Flair\n",
              "112  ozy9ps  ...          NaN\n",
              "67   owp4o7  ...        Trade\n",
              "27   ov7cg9  ...        Rumor\n",
              "33   ovlhin  ...        Rumor\n",
              "7    oji6xs  ...          NaN\n",
              "54   owozlr  ...  Free Agency\n",
              "51   owmcz6  ...        Rumor\n",
              "12   omt2e5  ...  Free Agency\n",
              "23   otm7jj  ...  Free Agency\n",
              "31   ovkxs2  ...          NaN\n",
              "1    odaahk  ...          NaN\n",
              "11   omcmdr  ...  Free Agency\n",
              "152  p89th7  ...        Fluff\n",
              "63   owp1mh  ...  Free Agency\n",
              "102  oyvztt  ...        Fluff\n",
              "\n",
              "[15 rows x 5 columns]"
            ]
          },
          "execution_count": 155,
          "metadata": {},
          "output_type": "execute_result"
        }
      ],
      "source": [
        "#Print out top commented r/nba thread of user inputted player. We'll be using the Post ID to run a sentiment analysis on\n",
        "pd.set_option('display.max_colwidth', None) \n",
        "\n",
        "threads = []\n",
        "for sub in subStats:\n",
        "  threads.append(subStats[sub][0])\n",
        "\n",
        "pd.DataFrame(threads, columns = [\"Post ID\",\"Title\",\"Publish Date\",\"Total No. of Comments\",\"Flair\"]).sort_values(\"Total No. of Comments\", ascending=False).head(15)"
      ]
    },
    {
      "cell_type": "markdown",
      "metadata": {
        "id": "r8GYteZtiW9y"
      },
      "source": [
        "# **Step 3**. Generate all comments from the thread we identified in prior step\n",
        "### With our thread of interest selected we can now run sentiment analysis on it to see how fan reacted to the news"
      ]
    },
    {
      "cell_type": "code",
      "execution_count": null,
      "metadata": {
        "colab": {
          "base_uri": "https://localhost:8080/"
        },
        "id": "Gkkg_mJgOETU",
        "outputId": "821cbb1f-6c6f-4222-d0d0-4266d382b59a"
      },
      "outputs": [],
      "source": [
        "#Step 3.1 -Input the thread we identified in previous step\n",
        "reddit = praw.Reddit(client_id='YOUR_CLIENT_ID', client_secret='YOUR_CLIENT_SECRET', user_agent='YOUR_USER_AGENT', check_for_async=False)\n",
        "submission = reddit.submission(id=input()) #Input the Post ID of the thread you want to analyse"
      ]
    },
    {
      "cell_type": "code",
      "execution_count": null,
      "metadata": {
        "colab": {
          "base_uri": "https://localhost:8080/"
        },
        "id": "zPsp5mgrL-PP",
        "outputId": "198fe5c5-f95a-4d35-f90d-1205f1815cc5"
      },
      "outputs": [],
      "source": [
        "# Step 3.2 - Pull all the comments tied to our selected thread (Note this can take a few minutes)\n",
        "comments_all = [] # Stores all comments in a list\n",
        "\n",
        "submission.comments.replace_more(limit=None)\n",
        "\n",
        "for comment in submission.comments.list():\n",
        "  post = {} # put this here\n",
        "  post['subreddit_id'] = comment.subreddit_id\n",
        "  post['submission_id'] = comment.link_id\n",
        "  post['parent_comment_id'] = comment.parent_id # If it is a top-level comment, this returns the submission ID instead of parent comment (prefixed with t3_)\n",
        "  post['comment_id'] = comment.id\n",
        "  post['author'] = comment.author\n",
        "  post['create_Date'] = datetime.datetime.fromtimestamp(comment.created_utc).strftime('%Y-%m-%d')\n",
        "  post['create_time'] = datetime.datetime.fromtimestamp(comment.created_utc)\n",
        "  post['score'] = comment.score\n",
        "  post['comment'] = comment.body\n",
        "  comments_all.append(post)\n",
        "\n",
        "print(len(comments_all))"
      ]
    },
    {
      "cell_type": "code",
      "execution_count": null,
      "metadata": {
        "colab": {
          "base_uri": "https://localhost:8080/",
          "height": 553
        },
        "id": "CKcSPn4doEp1",
        "outputId": "33af29df-a56e-4eb7-f723-a0d2e7e427fa"
      },
      "outputs": [
        {
          "name": "stdout",
          "output_type": "stream",
          "text": [
            "(326, 9) (143, 9) (193, 9)\n"
          ]
        },
        {
          "data": {
            "text/html": [
              "<div>\n",
              "<style scoped>\n",
              "    .dataframe tbody tr th:only-of-type {\n",
              "        vertical-align: middle;\n",
              "    }\n",
              "\n",
              "    .dataframe tbody tr th {\n",
              "        vertical-align: top;\n",
              "    }\n",
              "\n",
              "    .dataframe thead th {\n",
              "        text-align: right;\n",
              "    }\n",
              "</style>\n",
              "<table border=\"1\" class=\"dataframe\">\n",
              "  <thead>\n",
              "    <tr style=\"text-align: right;\">\n",
              "      <th></th>\n",
              "      <th>subreddit_id</th>\n",
              "      <th>submission_id</th>\n",
              "      <th>parent_comment_id</th>\n",
              "      <th>comment_id</th>\n",
              "      <th>author</th>\n",
              "      <th>create_Date</th>\n",
              "      <th>create_time</th>\n",
              "      <th>score</th>\n",
              "      <th>comment</th>\n",
              "    </tr>\n",
              "  </thead>\n",
              "  <tbody>\n",
              "    <tr>\n",
              "      <th>3</th>\n",
              "      <td>t5_2s3uz</td>\n",
              "      <td>t3_oucyld</td>\n",
              "      <td>t3_oucyld</td>\n",
              "      <td>h71jdl6</td>\n",
              "      <td>LucasLutkus</td>\n",
              "      <td>2021-07-30</td>\n",
              "      <td>2021-07-30 03:40:13</td>\n",
              "      <td>292</td>\n",
              "      <td>Awesome pick</td>\n",
              "    </tr>\n",
              "    <tr>\n",
              "      <th>0</th>\n",
              "      <td>t5_2s3uz</td>\n",
              "      <td>t3_oucyld</td>\n",
              "      <td>t3_oucyld</td>\n",
              "      <td>h71jjyr</td>\n",
              "      <td>saltynipsss</td>\n",
              "      <td>2021-07-30</td>\n",
              "      <td>2021-07-30 03:41:49</td>\n",
              "      <td>266</td>\n",
              "      <td>steal and he's a Chicago kid</td>\n",
              "    </tr>\n",
              "    <tr>\n",
              "      <th>5</th>\n",
              "      <td>t5_2s3uz</td>\n",
              "      <td>t3_oucyld</td>\n",
              "      <td>t3_oucyld</td>\n",
              "      <td>h71jdwe</td>\n",
              "      <td>RagingBull773</td>\n",
              "      <td>2021-07-30</td>\n",
              "      <td>2021-07-30 03:40:18</td>\n",
              "      <td>204</td>\n",
              "      <td>Let’s gooooo!!!</td>\n",
              "    </tr>\n",
              "    <tr>\n",
              "      <th>10</th>\n",
              "      <td>t5_2s3uz</td>\n",
              "      <td>t3_oucyld</td>\n",
              "      <td>t3_oucyld</td>\n",
              "      <td>h71jg1r</td>\n",
              "      <td>Swazi</td>\n",
              "      <td>2021-07-30</td>\n",
              "      <td>2021-07-30 03:40:50</td>\n",
              "      <td>200</td>\n",
              "      <td>God this FO is great</td>\n",
              "    </tr>\n",
              "    <tr>\n",
              "      <th>6</th>\n",
              "      <td>t5_2s3uz</td>\n",
              "      <td>t3_oucyld</td>\n",
              "      <td>t3_oucyld</td>\n",
              "      <td>h71jmhy</td>\n",
              "      <td>SpiritTreeTurtleBee</td>\n",
              "      <td>2021-07-30</td>\n",
              "      <td>2021-07-30 03:42:27</td>\n",
              "      <td>189</td>\n",
              "      <td>Man, this legit feels like we drafted in the late first round. Amazing pick</td>\n",
              "    </tr>\n",
              "    <tr>\n",
              "      <th>1</th>\n",
              "      <td>t5_2s3uz</td>\n",
              "      <td>t3_oucyld</td>\n",
              "      <td>t3_oucyld</td>\n",
              "      <td>h71je9z</td>\n",
              "      <td>ahhpay</td>\n",
              "      <td>2021-07-30</td>\n",
              "      <td>2021-07-30 03:40:24</td>\n",
              "      <td>147</td>\n",
              "      <td>Ayo?</td>\n",
              "    </tr>\n",
              "    <tr>\n",
              "      <th>2</th>\n",
              "      <td>t5_2s3uz</td>\n",
              "      <td>t3_oucyld</td>\n",
              "      <td>t3_oucyld</td>\n",
              "      <td>h71jfzp</td>\n",
              "      <td>HogMolly69</td>\n",
              "      <td>2021-07-30</td>\n",
              "      <td>2021-07-30 03:40:49</td>\n",
              "      <td>132</td>\n",
              "      <td>Let’s gooooo steal of the draft!!</td>\n",
              "    </tr>\n",
              "    <tr>\n",
              "      <th>11</th>\n",
              "      <td>t5_2s3uz</td>\n",
              "      <td>t3_oucyld</td>\n",
              "      <td>t3_oucyld</td>\n",
              "      <td>h71jgj6</td>\n",
              "      <td>dont_trip</td>\n",
              "      <td>2021-07-30</td>\n",
              "      <td>2021-07-30 03:40:58</td>\n",
              "      <td>128</td>\n",
              "      <td>ILL MFS</td>\n",
              "    </tr>\n",
              "    <tr>\n",
              "      <th>153</th>\n",
              "      <td>t5_2s3uz</td>\n",
              "      <td>t3_oucyld</td>\n",
              "      <td>t1_h71jdwe</td>\n",
              "      <td>h71k6gm</td>\n",
              "      <td>Zloggt</td>\n",
              "      <td>2021-07-30</td>\n",
              "      <td>2021-07-30 03:47:27</td>\n",
              "      <td>114</td>\n",
              "      <td>I remember fantasizing about this when he first declared.\\n\\nMany liked the idea, but thought it wasn’t going to happen.\\n\\nBut now…OH MY GOD I CANT BELIEVE IT BECAME TRUE!\\n\\nI’m so happy :))))</td>\n",
              "    </tr>\n",
              "    <tr>\n",
              "      <th>143</th>\n",
              "      <td>t5_2s3uz</td>\n",
              "      <td>t3_oucyld</td>\n",
              "      <td>t1_h71jjyr</td>\n",
              "      <td>h71naxa</td>\n",
              "      <td>godly_mercs</td>\n",
              "      <td>2021-07-30</td>\n",
              "      <td>2021-07-30 04:16:57</td>\n",
              "      <td>104</td>\n",
              "      <td>And you know the history with Chicago kids 😏</td>\n",
              "    </tr>\n",
              "  </tbody>\n",
              "</table>\n",
              "</div>"
            ],
            "text/plain": [
              "    subreddit_id  ...                                                                                                                                                                                             comment\n",
              "3       t5_2s3uz  ...                                                                                                                                                                                        Awesome pick\n",
              "0       t5_2s3uz  ...                                                                                                                                                                        steal and he's a Chicago kid\n",
              "5       t5_2s3uz  ...                                                                                                                                                                                     Let’s gooooo!!!\n",
              "10      t5_2s3uz  ...                                                                                                                                                                                God this FO is great\n",
              "6       t5_2s3uz  ...                                                                                                                         Man, this legit feels like we drafted in the late first round. Amazing pick\n",
              "1       t5_2s3uz  ...                                                                                                                                                                                                Ayo?\n",
              "2       t5_2s3uz  ...                                                                                                                                                                   Let’s gooooo steal of the draft!!\n",
              "11      t5_2s3uz  ...                                                                                                                                                                                             ILL MFS\n",
              "153     t5_2s3uz  ...  I remember fantasizing about this when he first declared.\\n\\nMany liked the idea, but thought it wasn’t going to happen.\\n\\nBut now…OH MY GOD I CANT BELIEVE IT BECAME TRUE!\\n\\nI’m so happy :))))\n",
              "143     t5_2s3uz  ...                                                                                                                                                        And you know the history with Chicago kids 😏\n",
              "\n",
              "[10 rows x 9 columns]"
            ]
          },
          "execution_count": 133,
          "metadata": {},
          "output_type": "execute_result"
        }
      ],
      "source": [
        "# Step 3.3 - Preview top upvoted comments\n",
        "all_df = pd.DataFrame(comments_all)\n",
        "pc_df = (all_df[all_df['submission_id'] == all_df['parent_comment_id']]) # Filter comments to only parent level\n",
        "top_df = all_df[all_df.score >= all_df.score.quantile(.50)] # Filter comments to only top 50th percentile upvoted\n",
        "print(all_df.shape, pc_df.shape, top_df.shape)\n",
        "\n",
        "all_df.sort_values('score', ascending=False).head(10)"
      ]
    },
    {
      "cell_type": "code",
      "execution_count": null,
      "metadata": {
        "id": "OPP5s-GMBZGe"
      },
      "outputs": [],
      "source": [
        "# Step 3.4 - Select which comments to analyze on (Options: All, Parent, Top Upvoted)\n",
        "df = top_df #all_df #top_df"
      ]
    },
    {
      "cell_type": "markdown",
      "metadata": {
        "id": "1WNYGI0kvuox"
      },
      "source": [
        "# **Step 4** Text Analysis\n",
        "## Lets study the top comments in our selected thread by performing the following:\n",
        "\n",
        "*   Find most common words (n-grams)\n",
        "*   Topic Modeling via NMF/LDA Models\n",
        "\n"
      ]
    },
    {
      "cell_type": "markdown",
      "metadata": {
        "id": "0JMEPIH0or4z"
      },
      "source": [
        "#### **Preprocess NLP text**\n",
        "###### We'll clean up our comment by lowercase, remove special characters, remove numbers, remove emails, etc) in one pass\n"
      ]
    },
    {
      "cell_type": "code",
      "execution_count": null,
      "metadata": {
        "colab": {
          "base_uri": "https://localhost:8080/",
          "height": 657
        },
        "id": "7xnrsAQmotot",
        "outputId": "7bfedc40-f956-4bb6-a2b9-bb1463e52a26"
      },
      "outputs": [],
      "source": [
        "stoplist = stopwords.words('english') + ['69'] + ['\\n'] + ['deleted'] + ['edit']\n",
        " \n",
        "def preprocess(sentence):\n",
        "    sentence=str(sentence)\n",
        "    sentence = sentence.lower()\n",
        "    sentence=sentence.replace('{html}',\"\") \n",
        "    cleanr = re.compile('<.*?>')\n",
        "    cleantext = re.sub(cleanr, '', sentence)\n",
        "    rem_url=re.sub(r'http\\S+', '',cleantext)\n",
        "    rem_num = re.sub('[0-9]+', '', rem_url)\n",
        "    tokenizer = RegexpTokenizer(r'\\w+')\n",
        "    tokens = tokenizer.tokenize(rem_num)  \n",
        "    filtered_words = [w for w in tokens if len(w) > 2 if not w in stoplist]\n",
        "    stem_words=[stemmer.stem(w) for w in filtered_words]\n",
        "    lemma_words=[lemmatizer.lemmatize(w) for w in stem_words]\n",
        "    return \" \".join(filtered_words)\n",
        "\n",
        "\n",
        "df['cleanComment']=df['comment'].map(lambda s:preprocess(s)) \n",
        "df.sort_values('score', ascending=False).head(10)"
      ]
    },
    {
      "cell_type": "markdown",
      "metadata": {
        "id": "0HBGKanwRhEi"
      },
      "source": [
        "# Most Common Words n-grams\n",
        "##### Collocations are series of words that frequently appear together in a given text.\n",
        "\n"
      ]
    },
    {
      "cell_type": "code",
      "execution_count": null,
      "metadata": {
        "colab": {
          "base_uri": "https://localhost:8080/",
          "height": 363
        },
        "id": "RI7zwMUaqTfP",
        "outputId": "c6fc169b-2d43-4f86-fe38-6cb4d995a1af"
      },
      "outputs": [
        {
          "data": {
            "text/html": [
              "<div>\n",
              "<style scoped>\n",
              "    .dataframe tbody tr th:only-of-type {\n",
              "        vertical-align: middle;\n",
              "    }\n",
              "\n",
              "    .dataframe tbody tr th {\n",
              "        vertical-align: top;\n",
              "    }\n",
              "\n",
              "    .dataframe thead th {\n",
              "        text-align: right;\n",
              "    }\n",
              "</style>\n",
              "<table border=\"1\" class=\"dataframe\">\n",
              "  <thead>\n",
              "    <tr style=\"text-align: right;\">\n",
              "      <th></th>\n",
              "      <th>frequency</th>\n",
              "      <th>bigram/trigram</th>\n",
              "    </tr>\n",
              "  </thead>\n",
              "  <tbody>\n",
              "    <tr>\n",
              "      <th>0</th>\n",
              "      <td>5</td>\n",
              "      <td>second round</td>\n",
              "    </tr>\n",
              "    <tr>\n",
              "      <th>1</th>\n",
              "      <td>4</td>\n",
              "      <td>really good</td>\n",
              "    </tr>\n",
              "    <tr>\n",
              "      <th>2</th>\n",
              "      <td>4</td>\n",
              "      <td>love pick</td>\n",
              "    </tr>\n",
              "    <tr>\n",
              "      <th>3</th>\n",
              "      <td>4</td>\n",
              "      <td>ayo ayo</td>\n",
              "    </tr>\n",
              "    <tr>\n",
              "      <th>4</th>\n",
              "      <td>3</td>\n",
              "      <td>objectively false</td>\n",
              "    </tr>\n",
              "    <tr>\n",
              "      <th>5</th>\n",
              "      <td>3</td>\n",
              "      <td>let gooooo</td>\n",
              "    </tr>\n",
              "    <tr>\n",
              "      <th>6</th>\n",
              "      <td>3</td>\n",
              "      <td>great pick</td>\n",
              "    </tr>\n",
              "    <tr>\n",
              "      <th>7</th>\n",
              "      <td>3</td>\n",
              "      <td>first round</td>\n",
              "    </tr>\n",
              "    <tr>\n",
              "      <th>8</th>\n",
              "      <td>2</td>\n",
              "      <td>year illinois</td>\n",
              "    </tr>\n",
              "    <tr>\n",
              "      <th>9</th>\n",
              "      <td>2</td>\n",
              "      <td>wingspan butler</td>\n",
              "    </tr>\n",
              "  </tbody>\n",
              "</table>\n",
              "</div>"
            ],
            "text/plain": [
              "   frequency     bigram/trigram\n",
              "0          5       second round\n",
              "1          4        really good\n",
              "2          4          love pick\n",
              "3          4            ayo ayo\n",
              "4          3  objectively false\n",
              "5          3         let gooooo\n",
              "6          3         great pick\n",
              "7          3        first round\n",
              "8          2      year illinois\n",
              "9          2    wingspan butler"
            ]
          },
          "execution_count": 147,
          "metadata": {},
          "output_type": "execute_result"
        }
      ],
      "source": [
        "from sklearn.feature_extraction.text import CountVectorizer\n",
        "\n",
        "c_vec = CountVectorizer(stop_words=stoplist, ngram_range=(2,3))\n",
        "\n",
        "# matrix of ngrams\n",
        "ngrams = c_vec.fit_transform(df['cleanComment']) # Change data here\n",
        "\n",
        "# count frequency of ngrams\n",
        "count_values = ngrams.toarray().sum(axis=0)\n",
        "# list of ngrams\n",
        "vocab = c_vec.vocabulary_\n",
        "df_ngram = pd.DataFrame(sorted([(count_values[i],k) for k,i in vocab.items()], reverse=True)\n",
        "            ).rename(columns={0: 'frequency', 1:'bigram/trigram'})\n",
        "\n",
        "df_ngram.head(10) "
      ]
    },
    {
      "cell_type": "code",
      "execution_count": null,
      "metadata": {
        "colab": {
          "base_uri": "https://localhost:8080/",
          "height": 143
        },
        "id": "plpLIN7G1Vsp",
        "outputId": "18895b15-7da4-4b4f-facc-0f794e51503b"
      },
      "outputs": [
        {
          "data": {
            "text/html": [
              "<div>\n",
              "<style scoped>\n",
              "    .dataframe tbody tr th:only-of-type {\n",
              "        vertical-align: middle;\n",
              "    }\n",
              "\n",
              "    .dataframe tbody tr th {\n",
              "        vertical-align: top;\n",
              "    }\n",
              "\n",
              "    .dataframe thead th {\n",
              "        text-align: right;\n",
              "    }\n",
              "</style>\n",
              "<table border=\"1\" class=\"dataframe\">\n",
              "  <thead>\n",
              "    <tr style=\"text-align: right;\">\n",
              "      <th></th>\n",
              "      <th>score</th>\n",
              "      <th>comment</th>\n",
              "    </tr>\n",
              "  </thead>\n",
              "  <tbody>\n",
              "    <tr>\n",
              "      <th>216</th>\n",
              "      <td>10</td>\n",
              "      <td>\"Much younger\" my ass. Butler is 20 and ayo is 21. Ayo also has better size and wingspan than butler.</td>\n",
              "    </tr>\n",
              "    <tr>\n",
              "      <th>266</th>\n",
              "      <td>3</td>\n",
              "      <td>&gt; Ayo also has better size and wingspan than butler.\\n\\nfacts</td>\n",
              "    </tr>\n",
              "    <tr>\n",
              "      <th>298</th>\n",
              "      <td>3</td>\n",
              "      <td>how something statistically proved on a huge sample size of years and years is \"objectively false\"? lol\\n\\nonly thing objectively false is you here</td>\n",
              "    </tr>\n",
              "  </tbody>\n",
              "</table>\n",
              "</div>"
            ],
            "text/plain": [
              "     score                                                                                                                                              comment\n",
              "216     10                                                \"Much younger\" my ass. Butler is 20 and ayo is 21. Ayo also has better size and wingspan than butler.\n",
              "266      3                                                                                        > Ayo also has better size and wingspan than butler.\\n\\nfacts\n",
              "298      3  how something statistically proved on a huge sample size of years and years is \"objectively false\"? lol\\n\\nonly thing objectively false is you here"
            ]
          },
          "execution_count": 148,
          "metadata": {},
          "output_type": "execute_result"
        }
      ],
      "source": [
        "# Double click into user select n-grams\n",
        "pd.set_option('display.max_colwidth', None)\n",
        "\n",
        "df[df['cleanComment'].str.contains(\"size\")][['score','comment']].sort_values('score', ascending=False).head(25)"
      ]
    },
    {
      "cell_type": "code",
      "execution_count": null,
      "metadata": {
        "colab": {
          "base_uri": "https://localhost:8080/",
          "height": 391
        },
        "id": "414q0Vh-85ot",
        "outputId": "73f67913-6f6d-4e48-d0fa-5b85c0ee4f58"
      },
      "outputs": [
        {
          "data": {
            "image/png": "[encoded data removed]",
            "text/plain": [
              "<Figure size 360x360 with 1 Axes>"
            ]
          },
          "metadata": {
            "needs_background": "light"
          },
          "output_type": "display_data"
        }
      ],
      "source": [
        "#nice library to produce wordclouds\n",
        "from wordcloud import WordCloud\n",
        "\n",
        "import matplotlib.pyplot as plt\n",
        "# if uising a Jupyter notebook, include:\n",
        "%matplotlib inline\n",
        "\n",
        "all_words = '' \n",
        "\n",
        "#text = df[df['cleanComment'].str.contains(\"round\")][['score','cleanComment']].sort_values('score', ascending=False).head(10)\n",
        "text = df[df['cleanComment'].str.contains(\"illin\")][['score','cleanComment']]\n",
        "\n",
        "#looping through all incidents and joining them to one text, to extract most common words\n",
        "for arg in text[\"cleanComment\"]: \n",
        "\n",
        "    tokens = arg.split()  \n",
        "      \n",
        "    all_words += \" \".join(tokens)+\" \"\n",
        "\n",
        "wordcloud = WordCloud(width = 700, height = 700, \n",
        "                background_color ='white', \n",
        "                min_font_size = 10).generate(all_words) \n",
        "  \n",
        "# plot the WordCloud image                        \n",
        "plt.figure(figsize = (5, 5), facecolor = None) \n",
        "plt.imshow(wordcloud) \n",
        "plt.axis(\"off\") \n",
        "plt.tight_layout(pad = 0) \n",
        "  \n",
        "plt.show()"
      ]
    },
    {
      "cell_type": "markdown",
      "metadata": {
        "id": "Q5q-Xyt5Qpha"
      },
      "source": [
        "# **Topic Analysis**\n",
        "##### In this section we'll run our selected comments through a factor analysis like process called Non-Negative Matrix Factorization(NMF). We'll also perform an Latent Dirichlet Allocation (LDA) analysis as an alternative back up. In either case the point is to identify topics being discussed and hopefully surface up those latent themes\n",
        "\n",
        "\n",
        "\n",
        "---\n",
        "\n",
        "\n",
        "### **Non-Negative Matrix Factorization(NMF)**\n",
        "##### The idea is to take the documents and to create the TF-IDF which will be a matrix of M rows, where M is the number of documents and in our case is 1,103,663 and N columns, where N is the number of unigrams, let’s call them “words”. Then, from this matrix, we try to generate another two matrices (matrix decomposition) such as the Features which will be of M rows and 10 columns, where 10 is the number of topics and the Components which will be of 10 rows (topics) and N columns (words). The product of Features and Components will approximate the TF-IDF."
      ]
    },
    {
      "cell_type": "code",
      "execution_count": null,
      "metadata": {
        "colab": {
          "base_uri": "https://localhost:8080/"
        },
        "id": "rhdQ9YlotNXM",
        "outputId": "e0e37fb0-5aac-4fcc-c098-7726a5f662c2"
      },
      "outputs": [
        {
          "name": "stdout",
          "output_type": "stream",
          "text": [
            "Topic #0: let gooooo, gooooo steal draft, gooooo steal\n",
            "Topic #1: love pick, pick ill, love pick ill\n",
            "Topic #2: also better, also better size, size wingspan\n",
            "Topic #3: ayo ayo, ayo ayo nasal, ayo ayo ayo\n",
            "Topic #4: bring back rose, bring back, back rose mentor\n",
            "\n"
          ]
        },
        {
          "name": "stderr",
          "output_type": "stream",
          "text": [
            "/usr/local/lib/python3.7/dist-packages/sklearn/decomposition/_nmf.py:294: FutureWarning: The 'init' value, when 'init=None' and n_components is less than n_samples and n_features, will be changed from 'nndsvd' to 'nndsvda' in 1.1 (renaming of 0.26).\n",
            "  FutureWarning,\n",
            "/usr/local/lib/python3.7/dist-packages/sklearn/utils/deprecation.py:87: FutureWarning: Function get_feature_names is deprecated; get_feature_names is deprecated in 1.0 and will be removed in 1.2. Please use get_feature_names_out instead.\n",
            "  warnings.warn(msg, category=FutureWarning)\n"
          ]
        }
      ],
      "source": [
        "from sklearn.feature_extraction.text import TfidfVectorizer\n",
        "from sklearn.decomposition import NMF\n",
        "from sklearn.pipeline import make_pipeline\n",
        "\n",
        "tfidf_vectorizer = TfidfVectorizer(stop_words=stoplist, ngram_range=(2,3)) #Change dimensions here\n",
        "nmf = NMF(n_components=5)\n",
        "pipe = make_pipeline(tfidf_vectorizer, nmf)\n",
        "pipe.fit(df['cleanComment'])\n",
        "\n",
        "def print_top_words(model, feature_names, n_top_words):\n",
        "    for topic_idx, topic in enumerate(model.components_):\n",
        "        message = \"Topic #%d: \" % topic_idx\n",
        "        message += \", \".join([feature_names[i]\n",
        "                             for i in topic.argsort()[:-n_top_words - 1:-1]])\n",
        "        print(message)\n",
        "    print()\n",
        "print_top_words(nmf, tfidf_vectorizer.get_feature_names(), n_top_words=3)"
      ]
    },
    {
      "cell_type": "code",
      "execution_count": null,
      "metadata": {
        "colab": {
          "base_uri": "https://localhost:8080/"
        },
        "id": "WE02UcRNi8L5",
        "outputId": "a08f06a3-3a7c-4a0c-b2ca-93af7122d563"
      },
      "outputs": [
        {
          "name": "stdout",
          "output_type": "stream",
          "text": [
            "For topic 1 the words with the highest value are:\n",
            "let gooooo            1.186293\n",
            "gooooo steal          0.160261\n",
            "gooooo steal draft    0.160261\n",
            "let gooooo steal      0.160261\n",
            "steal draft           0.149176\n",
            "Name: 0, dtype: float64\n",
            "\n",
            "\n",
            "For topic 2 the words with the highest value are:\n",
            "lets goooo           1.197206e+00\n",
            "awesome pick         1.661905e-16\n",
            "first round          1.174194e-16\n",
            "jimmy first          7.070221e-17\n",
            "jimmy first round    7.070221e-17\n",
            "Name: 1, dtype: float64\n",
            "\n",
            "\n",
            "For topic 3 the words with the highest value are:\n",
            "love pick         1.012673\n",
            "love pick much    0.320657\n",
            "pick much         0.320657\n",
            "love pick ill     0.249621\n",
            "pick ill          0.249621\n",
            "Name: 2, dtype: float64\n",
            "\n",
            "\n",
            "For topic 4 the words with the highest value are:\n",
            "also better         0.357265\n",
            "also better size    0.357265\n",
            "ayo also            0.357265\n",
            "ayo also better     0.357265\n",
            "better size         0.357265\n",
            "Name: 3, dtype: float64\n",
            "\n",
            "\n",
            "For topic 5 the words with the highest value are:\n",
            "ayo ayo            0.879490\n",
            "ayo ayo ayo        0.171393\n",
            "ayo ayo nasal      0.171393\n",
            "ayo nasal          0.171393\n",
            "ayo nasal musta    0.171393\n",
            "Name: 4, dtype: float64\n",
            "\n",
            "\n"
          ]
        },
        {
          "name": "stderr",
          "output_type": "stream",
          "text": [
            "/usr/local/lib/python3.7/dist-packages/sklearn/utils/deprecation.py:87: FutureWarning: Function get_feature_names is deprecated; get_feature_names is deprecated in 1.0 and will be removed in 1.2. Please use get_feature_names_out instead.\n",
            "  warnings.warn(msg, category=FutureWarning)\n"
          ]
        }
      ],
      "source": [
        "# Deeper dive into the constructs of each topic\n",
        "components_df = pd.DataFrame(nmf.components_, columns=tfidf_vectorizer.get_feature_names())\n",
        "\n",
        "for topic in range(components_df.shape[0]):\n",
        "    tmp = components_df.iloc[topic]\n",
        "    print(f'For topic {topic+1} the words with the highest value are:')\n",
        "    print(tmp.nlargest(5))\n",
        "    print('\\n')\n"
      ]
    },
    {
      "cell_type": "markdown",
      "metadata": {
        "id": "Euh6AErwicNx"
      },
      "source": [
        "---\n",
        "#### **Latent Dirichlet Allocation (LDA) - Alt. Backup**\n"
      ]
    },
    {
      "cell_type": "code",
      "execution_count": null,
      "metadata": {
        "colab": {
          "base_uri": "https://localhost:8080/"
        },
        "id": "A7UxE6snu1Cm",
        "outputId": "a8d0a5e2-2fc0-4d8f-eb13-d18159e1d7c8"
      },
      "outputs": [
        {
          "name": "stdout",
          "output_type": "stream",
          "text": [
            "Topic #0: ayo ayo, lot fun, lets gooooooo\n",
            "Topic #1: let gooooo, imma cry, stop erect\n",
            "Topic #2: awesome pick, buying jersey, know ayo\n",
            "Topic #3: lets goooo, love pick, letttsss goooooo\n",
            "Topic #4: hellllllllll yeah, illinois gang, ill mfs\n",
            "\n"
          ]
        },
        {
          "name": "stderr",
          "output_type": "stream",
          "text": [
            "/usr/local/lib/python3.7/dist-packages/sklearn/utils/deprecation.py:87: FutureWarning: Function get_feature_names is deprecated; get_feature_names is deprecated in 1.0 and will be removed in 1.2. Please use get_feature_names_out instead.\n",
            "  warnings.warn(msg, category=FutureWarning)\n"
          ]
        }
      ],
      "source": [
        "from sklearn.decomposition import LatentDirichletAllocation\n",
        "\n",
        "tfidf_vectorizer = TfidfVectorizer(stop_words=stoplist, ngram_range=(2,3)) #Change dimensions here\n",
        "lda = LatentDirichletAllocation(n_components=5)\n",
        "pipe = make_pipeline(tfidf_vectorizer, lda)\n",
        "\n",
        "pipe.fit(df['cleanComment']) #Change data here\n",
        "\n",
        "def print_top_words(model, feature_names, n_top_words):\n",
        "    for topic_idx, topic in enumerate(model.components_):\n",
        "        message = \"Topic #%d: \" % topic_idx\n",
        "        message += \", \".join([feature_names[i]\n",
        "                             for i in topic.argsort()[:-n_top_words - 1:-1]])\n",
        "        print(message)\n",
        "    print()\n",
        "print_top_words(lda, tfidf_vectorizer.get_feature_names(), n_top_words=3)"
      ]
    },
    {
      "cell_type": "markdown",
      "metadata": {
        "id": "XtAuAkSYfpQU"
      },
      "source": [
        "# **Sentiment Analysis** \n",
        "##### In this section we'll run our comments through the VADER NLP package to score each one with a negative, nuetral, or postiive sentiment score. We can then replicate the above analysis on negative/positive content."
      ]
    },
    {
      "cell_type": "code",
      "execution_count": null,
      "metadata": {
        "id": "UkEMNwGdcsUq"
      },
      "outputs": [],
      "source": [
        "def sentiment_scores(sentence):\n",
        " \n",
        "    # Create a SentimentIntensityAnalyzer object.\n",
        "    sid_obj = SIA()\n",
        " \n",
        "    # polarity_scores method of SentimentIntensityAnalyzer\n",
        "    # object gives a sentiment dictionary.\n",
        "    # which contains pos, neg, neu, and compound scores.\n",
        "    sentiment_dict = sid_obj.polarity_scores(sentence)\n",
        "    return sentiment_dict['compound']\n",
        "\n",
        "def sentiment_score_tier(comment_score):\n",
        "    # decide sentiment as positive, negative and neutral\n",
        "    if comment_score >= 0.2 :\n",
        "        return(\"Positive\")\n",
        " \n",
        "    elif comment_score <= - 0.2 :\n",
        "        return(\"Negative\")\n",
        " \n",
        "    else :\n",
        "        return(\"Neutral\")\n",
        "\n",
        "def comment_time_and_sentiment(submission):\n",
        "    time = []\n",
        "    sentiment = []\n",
        "    score = []\n",
        "    # Loop through top comments and add to time and sentiment list\n",
        "    for top_level_comment in submission.comments:\n",
        "        time.append((datetime.datetime.fromtimestamp(top_level_comment.created_utc) - datetime.timedelta(hours=1)))\n",
        "        sentiment.append(vader.polarity_scores(top_level_comment.body)['compound'])\n",
        "        score.append(top_level_comment.score)\n",
        "    # Make time format\n",
        "    pd_time = pd.to_datetime(time)\n",
        "    # Make to dateframe\n",
        "    df = pd.DataFrame(data={'sentiment': sentiment,'score':score}, index = pd_time)\n",
        "    return df\n",
        "\n",
        "def posneg_sentiment_difference(df,bins='1min'):\n",
        "    # Find comments with positive > 0 and negative < 0 sentiment\n",
        "    pdf = df[df['sentiment_score'] > 0]\n",
        "    ndf = df[df['sentiment_score'] < 0]\n",
        "\n",
        "    # Bin\n",
        "    pgdf = pdf.groupby(pd.Grouper(freq=bins)).count()\n",
        "    ngdf = ndf.groupby(pd.Grouper(freq=bins)).count()\n",
        "    diff_df = (pgdf['sentiment_score']-ngdf['sentiment_score']).dropna()\n",
        "    return diff_df\n",
        "\n",
        "def weighted_posneg_sentiment_difference(df,bins='1min'):\n",
        "    # Find comments with positive > 0 and negative < 0 sentiment\n",
        "    df = pd.DataFrame(df[df['score']>0])\n",
        "    pdf = df[df['sentiment_score'] > 0]\n",
        "    ndf = df[df['sentiment_score'] < 0]\n",
        "    # Bin\n",
        "    pgdf = pdf.groupby(pd.Grouper(freq=bins)).count()\n",
        "    ngdf = ndf.groupby(pd.Grouper(freq=bins)).count()\n",
        "    # Take the difference\n",
        "    diff_df = (pgdf['sentiment_score']*pgdf['score']-ngdf['sentiment_score']*ngdf['score']).dropna()\n",
        "    return diff_df"
      ]
    },
    {
      "cell_type": "code",
      "execution_count": null,
      "metadata": {
        "colab": {
          "base_uri": "https://localhost:8080/",
          "height": 813
        },
        "id": "pEyoaYzqd-AB",
        "outputId": "c6447c7e-c20d-4e6e-e0a7-a4535dd37c7f"
      },
      "outputs": [],
      "source": [
        "df['sentiment_score'] = df.apply(lambda x: sentiment_scores(x['cleanComment']), axis= 1)\n",
        "df['comment_score_tier'] = df.apply(lambda x: sentiment_score_tier(x['sentiment_score']), axis= 1)\n",
        "\n",
        "df.sort_values('score', ascending=False).head(10)"
      ]
    },
    {
      "cell_type": "code",
      "execution_count": null,
      "metadata": {
        "colab": {
          "base_uri": "https://localhost:8080/"
        },
        "id": "yHGOaLCInaug",
        "outputId": "937e6237-b6ff-4a77-b355-369cb30afd99"
      },
      "outputs": [
        {
          "data": {
            "text/plain": [
              "Positive    47.816594\n",
              "Neutral     37.554585\n",
              "Negative    14.628821\n",
              "Name: comment_score_tier, dtype: float64"
            ]
          },
          "execution_count": 79,
          "metadata": {},
          "output_type": "execute_result"
        }
      ],
      "source": [
        "df.comment_score_tier.value_counts(normalize=True) * 100"
      ]
    },
    {
      "cell_type": "code",
      "execution_count": null,
      "metadata": {
        "colab": {
          "base_uri": "https://localhost:8080/",
          "height": 499
        },
        "id": "zQMyg_Gb2cTw",
        "outputId": "c5f6b16e-68af-48d1-e200-1a8195161c82"
      },
      "outputs": [
        {
          "data": {
            "image/png": "[encoded data removed]",
            "text/plain": [
              "<Figure size 576x576 with 1 Axes>"
            ]
          },
          "metadata": {
            "needs_background": "light"
          },
          "output_type": "display_data"
        }
      ],
      "source": [
        "# Plot Distribution of Top Level Comment Sentiment\n",
        "fig, ax = plt.subplots(figsize=(8, 8))\n",
        "\n",
        "counts = df.comment_score_tier.value_counts(normalize=True) * 100\n",
        "tier_scores = df.groupby(['comment_score_tier']).agg({'score': 'sum'})\n",
        "total_score = df.agg({'score': 'sum'})\n",
        "# counts = (tier_scores.div(total_score, level='comment_score_tier') * 100).squeeze()\n",
        "\n",
        "sns.barplot(x=counts.index, y=counts, ax=ax)\n",
        "\n",
        "plt.title(\"Distribution of Upvotes to tier\")\n",
        "ax.set_ylabel(\"Percentage\")\n",
        "\n",
        "plt.show()"
      ]
    },
    {
      "cell_type": "code",
      "execution_count": null,
      "metadata": {
        "id": "yhcFuH6_aLs2"
      },
      "outputs": [],
      "source": [
        "df.to_csv (r'comment_sentiment_dataframe.csv', index = False, header=True)"
      ]
    }
  ],
  "metadata": {
    "colab": {
      "collapsed_sections": [],
      "name": "FAS NLP with Reddit Notebook.ipynb",
      "provenance": []
    },
    "kernelspec": {
      "display_name": "Python 3",
      "name": "python3"
    },
    "language_info": {
      "name": "python"
    }
  },
  "nbformat": 4,
  "nbformat_minor": 0
}
